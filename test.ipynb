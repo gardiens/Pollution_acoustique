{
 "cells": [
  {
   "cell_type": "code",
   "execution_count": 4,
   "metadata": {},
   "outputs": [],
   "source": [
    "import numpy "
   ]
  },
  {
   "cell_type": "code",
   "execution_count": 5,
   "metadata": {},
   "outputs": [],
   "source": [
    "chi = numpy.zeros((3,4))"
   ]
  },
  {
   "cell_type": "code",
   "execution_count": 43,
   "metadata": {},
   "outputs": [],
   "source": [
    "def P_l(l, chi):\n",
    "    M,N = numpy.shape(chi)\n",
    "    mat_min = numpy.zeros((M,N))\n",
    "    for i in range(M):\n",
    "        for j in range(N):\n",
    "            element = (chi+l*numpy.ones((M,N)))[i,j]\n",
    "            print(element)\n",
    "            mat_min[i,j] =  min(element, 1)\n",
    "    mat_max = numpy.zeros((M,N))\n",
    "    for i in range(M):\n",
    "        for j in range(N):\n",
    "            mat_max[i,j] =  max(0, mat_min[i,j])\n",
    "    return mat_max"
   ]
  },
  {
   "cell_type": "code",
   "execution_count": 45,
   "metadata": {},
   "outputs": [
    {
     "name": "stdout",
     "output_type": "stream",
     "text": [
      "[[0.1 0.2]\n",
      " [0.2 0.7]]\n",
      "0.5\n",
      "0.6000000000000001\n",
      "0.6000000000000001\n",
      "1.1\n"
     ]
    },
    {
     "data": {
      "text/plain": [
       "array([[0.5, 0.6],\n",
       "       [0.6, 1. ]])"
      ]
     },
     "execution_count": 45,
     "metadata": {},
     "output_type": "execute_result"
    }
   ],
   "source": [
    "A = numpy.array([0.1,0.2,0.2,0.7]).reshape(2,2)\n",
    "print(A)\n",
    "P_l(0.4,A)"
   ]
  },
  {
   "cell_type": "code",
   "execution_count": 13,
   "metadata": {},
   "outputs": [
    {
     "data": {
      "text/plain": [
       "array([2, 3])"
      ]
     },
     "execution_count": 13,
     "metadata": {},
     "output_type": "execute_result"
    }
   ],
   "source": [
    "numpy.min(A +1, 1)"
   ]
  }
 ],
 "metadata": {
  "kernelspec": {
   "display_name": "Python 3.8.3 ('base')",
   "language": "python",
   "name": "python3"
  },
  "language_info": {
   "codemirror_mode": {
    "name": "ipython",
    "version": 3
   },
   "file_extension": ".py",
   "mimetype": "text/x-python",
   "name": "python",
   "nbconvert_exporter": "python",
   "pygments_lexer": "ipython3",
   "version": "3.8.3"
  },
  "orig_nbformat": 4,
  "vscode": {
   "interpreter": {
    "hash": "40d3a090f54c6569ab1632332b64b2c03c39dcf918b08424e98f38b5ae0af88f"
   }
  }
 },
 "nbformat": 4,
 "nbformat_minor": 2
}
